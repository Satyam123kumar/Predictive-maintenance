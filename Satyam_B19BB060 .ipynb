{
  "nbformat": 4,
  "nbformat_minor": 0,
  "metadata": {
    "colab": {
      "name": "Satyam_B19BB060.ipynb",
      "provenance": [],
      "collapsed_sections": [],
      "toc_visible": true
    },
    "kernelspec": {
      "name": "python3",
      "display_name": "Python 3"
    }
  },
  "cells": [
    {
      "cell_type": "markdown",
      "metadata": {
        "id": "ZxEQPCtVqk3F"
      },
      "source": [
        "Importing necessary library"
      ]
    },
    {
      "cell_type": "code",
      "metadata": {
        "id": "BS3-StGzAI-z"
      },
      "source": [
        "import numpy as np\r\n",
        "import matplotlib.pyplot as plt\r\n",
        "import pandas as pd\r\n",
        "import math\r\n",
        "import cmath"
      ],
      "execution_count": 1,
      "outputs": []
    },
    {
      "cell_type": "markdown",
      "metadata": {
        "id": "hjSaMJBMqs8L"
      },
      "source": [
        "Importing dataset"
      ]
    },
    {
      "cell_type": "code",
      "metadata": {
        "id": "zvR_gZbEAmTl"
      },
      "source": [
        "df = pd.read_csv(\"signal.xlsx.csv\")"
      ],
      "execution_count": 2,
      "outputs": []
    },
    {
      "cell_type": "code",
      "metadata": {
        "colab": {
          "base_uri": "https://localhost:8080/",
          "height": 402
        },
        "id": "3pPNHogVBEwH",
        "outputId": "8a22ed44-8a35-4752-fe2c-135a4a95ab6f"
      },
      "source": [
        "df"
      ],
      "execution_count": 3,
      "outputs": [
        {
          "output_type": "execute_result",
          "data": {
            "text/html": [
              "<div>\n",
              "<style scoped>\n",
              "    .dataframe tbody tr th:only-of-type {\n",
              "        vertical-align: middle;\n",
              "    }\n",
              "\n",
              "    .dataframe tbody tr th {\n",
              "        vertical-align: top;\n",
              "    }\n",
              "\n",
              "    .dataframe thead th {\n",
              "        text-align: right;\n",
              "    }\n",
              "</style>\n",
              "<table border=\"1\" class=\"dataframe\">\n",
              "  <thead>\n",
              "    <tr style=\"text-align: right;\">\n",
              "      <th></th>\n",
              "      <th>x[n]</th>\n",
              "    </tr>\n",
              "  </thead>\n",
              "  <tbody>\n",
              "    <tr>\n",
              "      <th>0</th>\n",
              "      <td>4.0000</td>\n",
              "    </tr>\n",
              "    <tr>\n",
              "      <th>1</th>\n",
              "      <td>1.5088</td>\n",
              "    </tr>\n",
              "    <tr>\n",
              "      <th>2</th>\n",
              "      <td>-1.1853</td>\n",
              "    </tr>\n",
              "    <tr>\n",
              "      <th>3</th>\n",
              "      <td>0.0420</td>\n",
              "    </tr>\n",
              "    <tr>\n",
              "      <th>4</th>\n",
              "      <td>1.1847</td>\n",
              "    </tr>\n",
              "    <tr>\n",
              "      <th>...</th>\n",
              "      <td>...</td>\n",
              "    </tr>\n",
              "    <tr>\n",
              "      <th>96</th>\n",
              "      <td>1.1847</td>\n",
              "    </tr>\n",
              "    <tr>\n",
              "      <th>97</th>\n",
              "      <td>0.0420</td>\n",
              "    </tr>\n",
              "    <tr>\n",
              "      <th>98</th>\n",
              "      <td>-1.1853</td>\n",
              "    </tr>\n",
              "    <tr>\n",
              "      <th>99</th>\n",
              "      <td>1.5088</td>\n",
              "    </tr>\n",
              "    <tr>\n",
              "      <th>100</th>\n",
              "      <td>4.0000</td>\n",
              "    </tr>\n",
              "  </tbody>\n",
              "</table>\n",
              "<p>101 rows × 1 columns</p>\n",
              "</div>"
            ],
            "text/plain": [
              "       x[n]\n",
              "0    4.0000\n",
              "1    1.5088\n",
              "2   -1.1853\n",
              "3    0.0420\n",
              "4    1.1847\n",
              "..      ...\n",
              "96   1.1847\n",
              "97   0.0420\n",
              "98  -1.1853\n",
              "99   1.5088\n",
              "100  4.0000\n",
              "\n",
              "[101 rows x 1 columns]"
            ]
          },
          "metadata": {
            "tags": []
          },
          "execution_count": 3
        }
      ]
    },
    {
      "cell_type": "markdown",
      "metadata": {
        "id": "ZrhD4IYbrXVs"
      },
      "source": [
        "Taking X from 0 to 100 in integer values"
      ]
    },
    {
      "cell_type": "code",
      "metadata": {
        "id": "0g4vCM9VBFyL"
      },
      "source": [
        "x = np.arange(0,101)"
      ],
      "execution_count": 4,
      "outputs": []
    },
    {
      "cell_type": "markdown",
      "metadata": {
        "id": "WcxcxjdXuAXB"
      },
      "source": [
        "Here I'm appending all values of x[n] in a list"
      ]
    },
    {
      "cell_type": "code",
      "metadata": {
        "id": "aKsDGD3xWsWo"
      },
      "source": [
        "lst2 = [i for i in df[\"x[n]\"]]"
      ],
      "execution_count": 5,
      "outputs": []
    },
    {
      "cell_type": "code",
      "metadata": {
        "colab": {
          "base_uri": "https://localhost:8080/"
        },
        "id": "ASHUHDG_UdQh",
        "outputId": "e7c449b6-d904-4a67-ffb6-0148c6e14c55"
      },
      "source": [
        "lst2"
      ],
      "execution_count": 6,
      "outputs": [
        {
          "output_type": "execute_result",
          "data": {
            "text/plain": [
              "[4.0,\n",
              " 1.5088,\n",
              " -1.1853,\n",
              " 0.042,\n",
              " 1.1847,\n",
              " 0.4457,\n",
              " 0.7462,\n",
              " 1.2135,\n",
              " 0.0088,\n",
              " -0.4915,\n",
              " -0.191,\n",
              " -1.5777,\n",
              " -1.9579,\n",
              " 0.9433,\n",
              " 1.7388,\n",
              " -1.8479,\n",
              " -3.4307,\n",
              " -1.107,\n",
              " -0.1216,\n",
              " -0.8893,\n",
              " -0.309,\n",
              " 0.0186,\n",
              " -1.038,\n",
              " -0.8712,\n",
              " -0.2152,\n",
              " -1.0,\n",
              " -0.1596,\n",
              " 2.7307,\n",
              " 2.1096,\n",
              " -1.4765,\n",
              " -1.3090000000000002,\n",
              " 1.7408,\n",
              " 2.0588,\n",
              " 0.9815,\n",
              " 1.4464,\n",
              " 1.2298,\n",
              " 0.0138,\n",
              " 0.3315,\n",
              " 0.6831,\n",
              " -0.1749,\n",
              " 0.809,\n",
              " 2.4757,\n",
              " 0.1168,\n",
              " -3.1506,\n",
              " -1.5978,\n",
              " 1.1723,\n",
              " 0.2732,\n",
              " -1.1136,\n",
              " -0.6742,\n",
              " -1.1340000000000001,\n",
              " -2.0,\n",
              " -1.1340000000000001,\n",
              " -0.6742,\n",
              " -1.1136,\n",
              " 0.2732,\n",
              " 1.1723,\n",
              " -1.5978,\n",
              " -3.1506,\n",
              " 0.1168,\n",
              " 2.4757,\n",
              " 0.809,\n",
              " -0.1749,\n",
              " 0.6831,\n",
              " 0.3315,\n",
              " 0.0138,\n",
              " 1.2298,\n",
              " 1.4464,\n",
              " 0.9815,\n",
              " 2.0588,\n",
              " 1.7408,\n",
              " -1.3090000000000002,\n",
              " -1.4765,\n",
              " 2.1096,\n",
              " 2.7307,\n",
              " -0.1596,\n",
              " -1.0,\n",
              " -0.2152,\n",
              " -0.8712,\n",
              " -1.038,\n",
              " 0.0186,\n",
              " -0.309,\n",
              " -0.8893,\n",
              " -0.1216,\n",
              " -1.107,\n",
              " -3.4307,\n",
              " -1.8479,\n",
              " 1.7388,\n",
              " 0.9433,\n",
              " -1.9579,\n",
              " -1.5777,\n",
              " -0.191,\n",
              " -0.4915,\n",
              " 0.0088,\n",
              " 1.2135,\n",
              " 0.7462,\n",
              " 0.4457,\n",
              " 1.1847,\n",
              " 0.042,\n",
              " -1.1853,\n",
              " 1.5088,\n",
              " 4.0]"
            ]
          },
          "metadata": {
            "tags": []
          },
          "execution_count": 6
        }
      ]
    },
    {
      "cell_type": "markdown",
      "metadata": {
        "id": "HvyKoHUtt4cu"
      },
      "source": [
        "Visualising graph of x[n] (Discrete signal)"
      ]
    },
    {
      "cell_type": "code",
      "metadata": {
        "colab": {
          "base_uri": "https://localhost:8080/",
          "height": 459
        },
        "id": "0aaPcqZwSyWE",
        "outputId": "90c2543c-c73a-4a15-a9fd-01bb5c6f6fbe"
      },
      "source": [
        "plt.figure(figsize=(15,7))\r\n",
        "plt.style.use(\"seaborn-dark-palette\")\r\n",
        "plt.stem(x,lst2, use_line_collection = True)\r\n",
        "plt.xlabel(\"n\")\r\n",
        "plt.ylabel(\"X[n]\")"
      ],
      "execution_count": 7,
      "outputs": [
        {
          "output_type": "execute_result",
          "data": {
            "text/plain": [
              "Text(0, 0.5, 'X[n]')"
            ]
          },
          "metadata": {
            "tags": []
          },
          "execution_count": 7
        },
        {
          "output_type": "display_data",
          "data": {
            "image/png": "[encoded data removed]",
            "text/plain": [
              "<Figure size 1080x504 with 1 Axes>"
            ]
          },
          "metadata": {
            "tags": [],
            "needs_background": "light"
          }
        }
      ]
    },
    {
      "cell_type": "markdown",
      "metadata": {
        "id": "gajbQNIpufLc"
      },
      "source": [
        "Here I'm taking 101 equally spaced value of $\\Omega$ (capital_omega) which is also called descrete frequency"
      ]
    },
    {
      "cell_type": "code",
      "metadata": {
        "id": "OnXEdrPA-1bV"
      },
      "source": [
        "capital_omega = np.linspace(-math.pi, math.pi, 101)"
      ],
      "execution_count": 8,
      "outputs": []
    },
    {
      "cell_type": "code",
      "metadata": {
        "colab": {
          "base_uri": "https://localhost:8080/"
        },
        "id": "28diR3ERgVH4",
        "outputId": "70e35d7a-2f1e-4135-9f5b-93da52b9745e"
      },
      "source": [
        "capital_omega"
      ],
      "execution_count": 9,
      "outputs": [
        {
          "output_type": "execute_result",
          "data": {
            "text/plain": [
              "array([-3.14159265e+00, -3.07876080e+00, -3.01592895e+00, -2.95309709e+00,\n",
              "       -2.89026524e+00, -2.82743339e+00, -2.76460154e+00, -2.70176968e+00,\n",
              "       -2.63893783e+00, -2.57610598e+00, -2.51327412e+00, -2.45044227e+00,\n",
              "       -2.38761042e+00, -2.32477856e+00, -2.26194671e+00, -2.19911486e+00,\n",
              "       -2.13628300e+00, -2.07345115e+00, -2.01061930e+00, -1.94778745e+00,\n",
              "       -1.88495559e+00, -1.82212374e+00, -1.75929189e+00, -1.69646003e+00,\n",
              "       -1.63362818e+00, -1.57079633e+00, -1.50796447e+00, -1.44513262e+00,\n",
              "       -1.38230077e+00, -1.31946891e+00, -1.25663706e+00, -1.19380521e+00,\n",
              "       -1.13097336e+00, -1.06814150e+00, -1.00530965e+00, -9.42477796e-01,\n",
              "       -8.79645943e-01, -8.16814090e-01, -7.53982237e-01, -6.91150384e-01,\n",
              "       -6.28318531e-01, -5.65486678e-01, -5.02654825e-01, -4.39822972e-01,\n",
              "       -3.76991118e-01, -3.14159265e-01, -2.51327412e-01, -1.88495559e-01,\n",
              "       -1.25663706e-01, -6.28318531e-02,  4.44089210e-16,  6.28318531e-02,\n",
              "        1.25663706e-01,  1.88495559e-01,  2.51327412e-01,  3.14159265e-01,\n",
              "        3.76991118e-01,  4.39822972e-01,  5.02654825e-01,  5.65486678e-01,\n",
              "        6.28318531e-01,  6.91150384e-01,  7.53982237e-01,  8.16814090e-01,\n",
              "        8.79645943e-01,  9.42477796e-01,  1.00530965e+00,  1.06814150e+00,\n",
              "        1.13097336e+00,  1.19380521e+00,  1.25663706e+00,  1.31946891e+00,\n",
              "        1.38230077e+00,  1.44513262e+00,  1.50796447e+00,  1.57079633e+00,\n",
              "        1.63362818e+00,  1.69646003e+00,  1.75929189e+00,  1.82212374e+00,\n",
              "        1.88495559e+00,  1.94778745e+00,  2.01061930e+00,  2.07345115e+00,\n",
              "        2.13628300e+00,  2.19911486e+00,  2.26194671e+00,  2.32477856e+00,\n",
              "        2.38761042e+00,  2.45044227e+00,  2.51327412e+00,  2.57610598e+00,\n",
              "        2.63893783e+00,  2.70176968e+00,  2.76460154e+00,  2.82743339e+00,\n",
              "        2.89026524e+00,  2.95309709e+00,  3.01592895e+00,  3.07876080e+00,\n",
              "        3.14159265e+00])"
            ]
          },
          "metadata": {
            "tags": []
          },
          "execution_count": 9
        }
      ]
    },
    {
      "cell_type": "markdown",
      "metadata": {
        "id": "YXP5faMyweoK"
      },
      "source": [
        "Now using formula X($e^{-j\\Omega}$)= $\\sum_{i=0}^{100} x[n]$e$^{-jn\\Omega}$, we are calculating DTFT."
      ]
    },
    {
      "cell_type": "code",
      "metadata": {
        "id": "8U27hP_tUEXU"
      },
      "source": [
        "x = 0\r\n",
        "y = -1\r\n",
        "lst = []\r\n",
        "z= complex(x,y)                              #z = -j\r\n",
        "for m in capital_omega:\r\n",
        "  sum = 0\r\n",
        "  for i in range(0,101):  \r\n",
        "    y = (cmath.exp(z*m*i))*lst2[i]\r\n",
        "    sum+=y\r\n",
        "    if sum == 0:                            #sum = X(e^(-j*omega))\r\n",
        "      pass\r\n",
        "  lst.append(abs(sum))  "
      ],
      "execution_count": 10,
      "outputs": []
    },
    {
      "cell_type": "code",
      "metadata": {
        "colab": {
          "base_uri": "https://localhost:8080/"
        },
        "id": "WB6nGdue2md1",
        "outputId": "189dfe41-15f2-43b9-9b15-1e0dc29087f1"
      },
      "source": [
        "lst"
      ],
      "execution_count": 11,
      "outputs": [
        {
          "output_type": "execute_result",
          "data": {
            "text/plain": [
              "[3.9998000000000005,\n",
              " 3.9997541317729124,\n",
              " 3.9998572392950296,\n",
              " 3.999810162031748,\n",
              " 3.999774032623302,\n",
              " 4.000353010576292,\n",
              " 4.000072409960349,\n",
              " 4.000077390684596,\n",
              " 4.000210485259338,\n",
              " 4.000035820109532,\n",
              " 4.000247213595311,\n",
              " 3.9994944417829403,\n",
              " 3.9997090613352206,\n",
              " 3.999945867854834,\n",
              " 3.9999894507212543,\n",
              " 3.9998106735144807,\n",
              " 4.000377894747157,\n",
              " 4.0001965643738355,\n",
              " 3.9994437443463893,\n",
              " 4.000193868494418,\n",
              " 4.00007639320215,\n",
              " 53.99996715909557,\n",
              " 4.0004280501359775,\n",
              " 3.9998514532608724,\n",
              " 3.9996833239075085,\n",
              " 3.999799999999917,\n",
              " 4.000330698814694,\n",
              " 3.999963217210658,\n",
              " 53.99934423841766,\n",
              " 3.9999999122179775,\n",
              " 3.9993527864045455,\n",
              " 3.999755326439199,\n",
              " 3.999895902427812,\n",
              " 4.000333187541417,\n",
              " 4.000262359526098,\n",
              " 54.00020013532654,\n",
              " 3.9998505043144195,\n",
              " 4.000048172799888,\n",
              " 4.000101293519308,\n",
              " 4.000384848240666,\n",
              " 4.000523606797707,\n",
              " 4.0003433496022645,\n",
              " 3.9998606557091305,\n",
              " 4.000274888674796,\n",
              " 4.000265238965396,\n",
              " 3.9998361805826246,\n",
              " 4.00015409797162,\n",
              " 53.999499095567145,\n",
              " 4.000389318002175,\n",
              " 4.000071142244593,\n",
              " 3.9998000000000014,\n",
              " 4.000071142244495,\n",
              " 4.000389318001879,\n",
              " 53.99949909556715,\n",
              " 4.00015409797197,\n",
              " 3.999836180582985,\n",
              " 4.000265238965621,\n",
              " 4.000274888674856,\n",
              " 3.9998606557092122,\n",
              " 4.000343349602271,\n",
              " 4.000523606797738,\n",
              " 4.000384848240582,\n",
              " 4.000101293519224,\n",
              " 4.0000481727996835,\n",
              " 3.9998505043141,\n",
              " 54.00020013532654,\n",
              " 4.000262359526778,\n",
              " 4.000333187541555,\n",
              " 3.999895902427931,\n",
              " 3.999755326439172,\n",
              " 3.9993527864045078,\n",
              " 3.999999912217576,\n",
              " 53.99934423841774,\n",
              " 3.999963217211467,\n",
              " 4.000330698814881,\n",
              " 3.999800000000026,\n",
              " 3.999683323907526,\n",
              " 3.9998514532609732,\n",
              " 4.0004280501354845,\n",
              " 53.999967159095696,\n",
              " 4.00007639320215,\n",
              " 4.000193868494879,\n",
              " 3.9994437443463893,\n",
              " 4.00019656437429,\n",
              " 4.0003778947473085,\n",
              " 3.999810673514591,\n",
              " 3.9999894507212774,\n",
              " 3.999945867854834,\n",
              " 3.999709061335384,\n",
              " 3.999494441782927,\n",
              " 4.0002472135956015,\n",
              " 4.000035820109546,\n",
              " 4.000210485259338,\n",
              " 4.000077390684659,\n",
              " 4.000072409960271,\n",
              " 4.000353010576371,\n",
              " 3.9997740326233715,\n",
              " 3.999810162031748,\n",
              " 3.9998572392949763,\n",
              " 3.999754131773026,\n",
              " 3.9998000000000005]"
            ]
          },
          "metadata": {
            "tags": []
          },
          "execution_count": 11
        }
      ]
    },
    {
      "cell_type": "markdown",
      "metadata": {
        "id": "Dgd9zZ9P1EED"
      },
      "source": [
        "There are 101 value of X($e^{-j\\Omega}$) for 101 X[n]"
      ]
    },
    {
      "cell_type": "code",
      "metadata": {
        "colab": {
          "base_uri": "https://localhost:8080/"
        },
        "id": "CBc87r-RAjm7",
        "outputId": "8d168d48-7ce0-42ed-acc5-a5f43ddd5bed"
      },
      "source": [
        "sum1 = 0\r\n",
        "for i in lst:\r\n",
        "  sum1 += 1\r\n",
        "print(sum1)"
      ],
      "execution_count": 12,
      "outputs": [
        {
          "output_type": "stream",
          "text": [
            "101\n"
          ],
          "name": "stdout"
        }
      ]
    },
    {
      "cell_type": "markdown",
      "metadata": {
        "id": "63JUciqB1df6"
      },
      "source": [
        "Visualizing graphs of X($e^{-j\\Omega}$) vs $\\Omega$"
      ]
    },
    {
      "cell_type": "code",
      "metadata": {
        "colab": {
          "base_uri": "https://localhost:8080/",
          "height": 495
        },
        "id": "jQpipJpgZvw1",
        "outputId": "c2c57a2c-4522-4f8d-bcb8-15d3e866075e"
      },
      "source": [
        "plt.figure(figsize=(20,8))\r\n",
        "plt.style.use(\"fivethirtyeight\")\r\n",
        "plt.plot(capital_omega,lst)\r\n",
        "plt.xlabel(\"$\\Omega$\")\r\n",
        "plt.ylabel(\"X($e^{-j\\Omega}$)\")"
      ],
      "execution_count": 13,
      "outputs": [
        {
          "output_type": "execute_result",
          "data": {
            "text/plain": [
              "Text(0, 0.5, 'X($e^{-j\\\\Omega}$)')"
            ]
          },
          "metadata": {
            "tags": []
          },
          "execution_count": 13
        },
        {
          "output_type": "display_data",
          "data": {
            "image/png": "[encoded data removed]",
            "text/plain": [
              "<Figure size 1440x576 with 1 Axes>"
            ]
          },
          "metadata": {
            "tags": [],
            "needs_background": "light"
          }
        }
      ]
    },
    {
      "cell_type": "markdown",
      "metadata": {
        "id": "yFs4a0Wq2BSz"
      },
      "source": [
        "Now we are interested in finding $\\omega$ by using formula:- $\\Omega$ = $\\omega$*T"
      ]
    },
    {
      "cell_type": "markdown",
      "metadata": {
        "id": "xoKP3hO33JDk"
      },
      "source": [
        "T = 1/100(given), \r\n",
        "$\\Omega$ we find earlier."
      ]
    },
    {
      "cell_type": "code",
      "metadata": {
        "id": "7exe3uFSrSX1"
      },
      "source": [
        "W = capital_omega*100"
      ],
      "execution_count": 14,
      "outputs": []
    },
    {
      "cell_type": "code",
      "metadata": {
        "colab": {
          "base_uri": "https://localhost:8080/"
        },
        "id": "6Jpvq1G563QA",
        "outputId": "e31c25eb-0fdb-4489-87be-f76e2790e0b2"
      },
      "source": [
        "W"
      ],
      "execution_count": 15,
      "outputs": [
        {
          "output_type": "execute_result",
          "data": {
            "text/plain": [
              "array([-3.14159265e+02, -3.07876080e+02, -3.01592895e+02, -2.95309709e+02,\n",
              "       -2.89026524e+02, -2.82743339e+02, -2.76460154e+02, -2.70176968e+02,\n",
              "       -2.63893783e+02, -2.57610598e+02, -2.51327412e+02, -2.45044227e+02,\n",
              "       -2.38761042e+02, -2.32477856e+02, -2.26194671e+02, -2.19911486e+02,\n",
              "       -2.13628300e+02, -2.07345115e+02, -2.01061930e+02, -1.94778745e+02,\n",
              "       -1.88495559e+02, -1.82212374e+02, -1.75929189e+02, -1.69646003e+02,\n",
              "       -1.63362818e+02, -1.57079633e+02, -1.50796447e+02, -1.44513262e+02,\n",
              "       -1.38230077e+02, -1.31946891e+02, -1.25663706e+02, -1.19380521e+02,\n",
              "       -1.13097336e+02, -1.06814150e+02, -1.00530965e+02, -9.42477796e+01,\n",
              "       -8.79645943e+01, -8.16814090e+01, -7.53982237e+01, -6.91150384e+01,\n",
              "       -6.28318531e+01, -5.65486678e+01, -5.02654825e+01, -4.39822972e+01,\n",
              "       -3.76991118e+01, -3.14159265e+01, -2.51327412e+01, -1.88495559e+01,\n",
              "       -1.25663706e+01, -6.28318531e+00,  4.44089210e-14,  6.28318531e+00,\n",
              "        1.25663706e+01,  1.88495559e+01,  2.51327412e+01,  3.14159265e+01,\n",
              "        3.76991118e+01,  4.39822972e+01,  5.02654825e+01,  5.65486678e+01,\n",
              "        6.28318531e+01,  6.91150384e+01,  7.53982237e+01,  8.16814090e+01,\n",
              "        8.79645943e+01,  9.42477796e+01,  1.00530965e+02,  1.06814150e+02,\n",
              "        1.13097336e+02,  1.19380521e+02,  1.25663706e+02,  1.31946891e+02,\n",
              "        1.38230077e+02,  1.44513262e+02,  1.50796447e+02,  1.57079633e+02,\n",
              "        1.63362818e+02,  1.69646003e+02,  1.75929189e+02,  1.82212374e+02,\n",
              "        1.88495559e+02,  1.94778745e+02,  2.01061930e+02,  2.07345115e+02,\n",
              "        2.13628300e+02,  2.19911486e+02,  2.26194671e+02,  2.32477856e+02,\n",
              "        2.38761042e+02,  2.45044227e+02,  2.51327412e+02,  2.57610598e+02,\n",
              "        2.63893783e+02,  2.70176968e+02,  2.76460154e+02,  2.82743339e+02,\n",
              "        2.89026524e+02,  2.95309709e+02,  3.01592895e+02,  3.07876080e+02,\n",
              "        3.14159265e+02])"
            ]
          },
          "metadata": {
            "tags": []
          },
          "execution_count": 15
        }
      ]
    },
    {
      "cell_type": "markdown",
      "metadata": {
        "id": "RVIYWHaC5f59"
      },
      "source": [
        "Visualising whether $\\Omega$>25Hz or not."
      ]
    },
    {
      "cell_type": "code",
      "metadata": {
        "id": "JlkEJVw3Il8J",
        "colab": {
          "base_uri": "https://localhost:8080/",
          "height": 321
        },
        "outputId": "985ac3b4-f438-4cb5-d3d4-043f70ea07ba"
      },
      "source": [
        "plt.style.use(\"fivethirtyeight\")\r\n",
        "plt.stem(capital_omega,W, use_line_collection=True)\r\n",
        "plt.xlabel(\"$\\Omega$\")\r\n",
        "plt.ylabel(\"$\\omega$\")"
      ],
      "execution_count": 16,
      "outputs": [
        {
          "output_type": "execute_result",
          "data": {
            "text/plain": [
              "Text(0, 0.5, '$\\\\omega$')"
            ]
          },
          "metadata": {
            "tags": []
          },
          "execution_count": 16
        },
        {
          "output_type": "display_data",
          "data": {
            "image/png": "[encoded data removed]",
            "text/plain": [
              "<Figure size 432x288 with 1 Axes>"
            ]
          },
          "metadata": {
            "tags": []
          }
        }
      ]
    },
    {
      "cell_type": "markdown",
      "metadata": {
        "id": "eykT4lpX5wRx"
      },
      "source": [
        "# As we see $\\Omega$ is greater than 25Hz, so we can say that it requires maintainance "
      ]
    }
  ]
}